{
  "nbformat": 4,
  "nbformat_minor": 0,
  "metadata": {
    "colab": {
      "provenance": []
    },
    "kernelspec": {
      "name": "python3",
      "display_name": "Python 3"
    },
    "language_info": {
      "name": "python"
    }
  },
  "cells": [
    {
      "cell_type": "code",
      "execution_count": 1,
      "metadata": {
        "colab": {
          "base_uri": "https://localhost:8080/"
        },
        "id": "3iK9N3sRWEuI",
        "outputId": "b2ac623b-c8a0-4f45-ecb0-dfdcef394614"
      },
      "outputs": [
        {
          "output_type": "stream",
          "name": "stdout",
          "text": [
            "What's your name? A:Anonymous\n",
            "On a scale of 1-10, how do you feel about being a woman? A:10\n",
            "Happy Women's Day, Anonymous! You are determined and we celebrate you today and every day.\n"
          ]
        }
      ],
      "source": [
        "import random\n",
        "from sklearn.feature_extraction.text import CountVectorizer\n",
        "from sklearn.naive_bayes import MultinomialNB\n",
        "\n",
        "# Define a list of positive adjectives to use in the message\n",
        "positive_adjectives = [\"amazing\", \"beautiful\", \"courageous\", \"determined\", \n",
        "                       \"empowering\", \"fearless\", \"inspiring\", \"kind\", \n",
        "                       \"resilient\"]\n",
        "\n",
        "# Define a list of negative adjectives to use in the message\n",
        "negative_adjectives = [\"disheartening\", \"discriminatory\", \"frustrating\", \n",
        "                       \"hurtful\", \"oppressive\", \"sexist\", \"unfair\", \"unjust\", \n",
        "                       \"unwelcoming\"]\n",
        "\n",
        "# Prompt the user to enter their name\n",
        "name = input(\"What's your name? A:\")\n",
        "\n",
        "# Prompt the user to rate how they feel about being a woman\n",
        "rating = input(\"On a scale of 1-10, how do you feel about being a woman? A:\")\n",
        "# Convert the rating to an integer\n",
        "rating = int(rating)\n",
        "# Generate a personalized message based on the user's input\n",
        "if rating >= 8:\n",
        "    adjective = random.choice(positive_adjectives)\n",
        "    message = f\"Happy Women's Day, {name}! You are {adjective} and we celebrate you today and every day.\"\n",
        "elif rating >= 5:\n",
        "    vectorizer = CountVectorizer(stop_words=\"english\")\n",
        "    X_train = vectorizer.fit_transform([\"We acknowledge the struggles and obstacles that women face, but we also celebrate their strength and resilience. Happy Women's Day!\"])\n",
        "    y_train = [\"positive\"]\n",
        "    X_test = vectorizer.transform([name])\n",
        "    clf = MultinomialNB()\n",
        "    clf.fit(X_train, y_train)\n",
        "    sentiment = clf.predict(X_test)\n",
        "    if sentiment == \"positive\":\n",
        "        adjective = random.choice(positive_adjectives)\n",
        "        message = f\"Happy Women's Day, {name}! You are {adjective} and we celebrate you today and every day.\"\n",
        "    else:\n",
        "        adjective = random.choice(negative_adjectives)\n",
        "        message = f\"Happy Women's Day, {name}. Although the world can be {adjective}, we honor your strength and perseverance as a woman.\"\n",
        "else:\n",
        "    message = f\"Happy Women's Day, {name}. We stand with you in solidarity as we continue to fight for gender equality and justice for all women.\"\n",
        "# Print the message\n",
        "print(message)\n"
      ]
    }
  ]
}